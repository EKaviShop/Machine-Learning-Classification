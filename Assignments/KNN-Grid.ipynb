{
 "cells": [
  {
   "cell_type": "code",
   "execution_count": 27,
   "id": "76ffbb47",
   "metadata": {},
   "outputs": [],
   "source": [
    "import pandas as pd\n",
    "dataset=pd.read_csv(\"CKD.csv\")\n",
    "#dataset"
   ]
  },
  {
   "cell_type": "code",
   "execution_count": 28,
   "id": "0bd1ffe5",
   "metadata": {},
   "outputs": [],
   "source": [
    "dataset=pd.get_dummies(dataset,drop_first=True,dtype=int)\n",
    "#dataset"
   ]
  },
  {
   "cell_type": "code",
   "execution_count": 29,
   "id": "c0413fe7",
   "metadata": {},
   "outputs": [
    {
     "data": {
      "text/plain": [
       "Index(['age', 'bp', 'al', 'su', 'bgr', 'bu', 'sc', 'sod', 'pot', 'hrmo', 'pcv',\n",
       "       'wc', 'rc', 'sg_b', 'sg_c', 'sg_d', 'sg_e', 'rbc_normal', 'pc_normal',\n",
       "       'pcc_present', 'ba_present', 'htn_yes', 'dm_yes', 'cad_yes',\n",
       "       'appet_yes', 'pe_yes', 'ane_yes', 'classification_yes'],\n",
       "      dtype='object')"
      ]
     },
     "execution_count": 29,
     "metadata": {},
     "output_type": "execute_result"
    }
   ],
   "source": [
    "dataset.columns"
   ]
  },
  {
   "cell_type": "code",
   "execution_count": 30,
   "id": "88b1fa96",
   "metadata": {},
   "outputs": [
    {
     "data": {
      "text/plain": [
       "classification_yes\n",
       "1    249\n",
       "0    150\n",
       "Name: count, dtype: int64"
      ]
     },
     "execution_count": 30,
     "metadata": {},
     "output_type": "execute_result"
    }
   ],
   "source": [
    "dataset[\"classification_yes\"].value_counts()"
   ]
  },
  {
   "cell_type": "code",
   "execution_count": 31,
   "id": "f90dd7b4",
   "metadata": {},
   "outputs": [],
   "source": [
    "indep=dataset.drop([\"classification_yes\"],axis=1)\n",
    "dep=dataset[\"classification_yes\"]"
   ]
  },
  {
   "cell_type": "code",
   "execution_count": 32,
   "id": "a9d29618",
   "metadata": {},
   "outputs": [
    {
     "data": {
      "text/plain": [
       "(399, 27)"
      ]
     },
     "execution_count": 32,
     "metadata": {},
     "output_type": "execute_result"
    }
   ],
   "source": [
    "indep.shape #find rows and cloumns"
   ]
  },
  {
   "cell_type": "code",
   "execution_count": 33,
   "id": "20d48e45",
   "metadata": {},
   "outputs": [],
   "source": [
    "from sklearn.model_selection import train_test_split\n",
    "X_train, X_test, y_train, y_test = train_test_split(indep, dep, test_size = 1/3, random_state = 0)"
   ]
  },
  {
   "cell_type": "code",
   "execution_count": 34,
   "id": "a2dab0a0",
   "metadata": {},
   "outputs": [],
   "source": [
    "from sklearn.preprocessing import StandardScaler\n",
    "sc = StandardScaler()\n",
    "X_train = sc.fit_transform(X_train)\n",
    "X_test = sc.transform(X_test)"
   ]
  },
  {
   "cell_type": "code",
   "execution_count": 35,
   "id": "08507ad6",
   "metadata": {},
   "outputs": [
    {
     "name": "stdout",
     "output_type": "stream",
     "text": [
      "Fitting 5 folds for each of 8 candidates, totalling 40 fits\n"
     ]
    },
    {
     "data": {
      "text/html": [
       "<style>#sk-container-id-5 {color: black;}#sk-container-id-5 pre{padding: 0;}#sk-container-id-5 div.sk-toggleable {background-color: white;}#sk-container-id-5 label.sk-toggleable__label {cursor: pointer;display: block;width: 100%;margin-bottom: 0;padding: 0.3em;box-sizing: border-box;text-align: center;}#sk-container-id-5 label.sk-toggleable__label-arrow:before {content: \"▸\";float: left;margin-right: 0.25em;color: #696969;}#sk-container-id-5 label.sk-toggleable__label-arrow:hover:before {color: black;}#sk-container-id-5 div.sk-estimator:hover label.sk-toggleable__label-arrow:before {color: black;}#sk-container-id-5 div.sk-toggleable__content {max-height: 0;max-width: 0;overflow: hidden;text-align: left;background-color: #f0f8ff;}#sk-container-id-5 div.sk-toggleable__content pre {margin: 0.2em;color: black;border-radius: 0.25em;background-color: #f0f8ff;}#sk-container-id-5 input.sk-toggleable__control:checked~div.sk-toggleable__content {max-height: 200px;max-width: 100%;overflow: auto;}#sk-container-id-5 input.sk-toggleable__control:checked~label.sk-toggleable__label-arrow:before {content: \"▾\";}#sk-container-id-5 div.sk-estimator input.sk-toggleable__control:checked~label.sk-toggleable__label {background-color: #d4ebff;}#sk-container-id-5 div.sk-label input.sk-toggleable__control:checked~label.sk-toggleable__label {background-color: #d4ebff;}#sk-container-id-5 input.sk-hidden--visually {border: 0;clip: rect(1px 1px 1px 1px);clip: rect(1px, 1px, 1px, 1px);height: 1px;margin: -1px;overflow: hidden;padding: 0;position: absolute;width: 1px;}#sk-container-id-5 div.sk-estimator {font-family: monospace;background-color: #f0f8ff;border: 1px dotted black;border-radius: 0.25em;box-sizing: border-box;margin-bottom: 0.5em;}#sk-container-id-5 div.sk-estimator:hover {background-color: #d4ebff;}#sk-container-id-5 div.sk-parallel-item::after {content: \"\";width: 100%;border-bottom: 1px solid gray;flex-grow: 1;}#sk-container-id-5 div.sk-label:hover label.sk-toggleable__label {background-color: #d4ebff;}#sk-container-id-5 div.sk-serial::before {content: \"\";position: absolute;border-left: 1px solid gray;box-sizing: border-box;top: 0;bottom: 0;left: 50%;z-index: 0;}#sk-container-id-5 div.sk-serial {display: flex;flex-direction: column;align-items: center;background-color: white;padding-right: 0.2em;padding-left: 0.2em;position: relative;}#sk-container-id-5 div.sk-item {position: relative;z-index: 1;}#sk-container-id-5 div.sk-parallel {display: flex;align-items: stretch;justify-content: center;background-color: white;position: relative;}#sk-container-id-5 div.sk-item::before, #sk-container-id-5 div.sk-parallel-item::before {content: \"\";position: absolute;border-left: 1px solid gray;box-sizing: border-box;top: 0;bottom: 0;left: 50%;z-index: -1;}#sk-container-id-5 div.sk-parallel-item {display: flex;flex-direction: column;z-index: 1;position: relative;background-color: white;}#sk-container-id-5 div.sk-parallel-item:first-child::after {align-self: flex-end;width: 50%;}#sk-container-id-5 div.sk-parallel-item:last-child::after {align-self: flex-start;width: 50%;}#sk-container-id-5 div.sk-parallel-item:only-child::after {width: 0;}#sk-container-id-5 div.sk-dashed-wrapped {border: 1px dashed gray;margin: 0 0.4em 0.5em 0.4em;box-sizing: border-box;padding-bottom: 0.4em;background-color: white;}#sk-container-id-5 div.sk-label label {font-family: monospace;font-weight: bold;display: inline-block;line-height: 1.2em;}#sk-container-id-5 div.sk-label-container {text-align: center;}#sk-container-id-5 div.sk-container {/* jupyter's `normalize.less` sets `[hidden] { display: none; }` but bootstrap.min.css set `[hidden] { display: none !important; }` so we also need the `!important` here to be able to override the default hidden behavior on the sphinx rendered scikit-learn.org. See: https://github.com/scikit-learn/scikit-learn/issues/21755 */display: inline-block !important;position: relative;}#sk-container-id-5 div.sk-text-repr-fallback {display: none;}</style><div id=\"sk-container-id-5\" class=\"sk-top-container\"><div class=\"sk-text-repr-fallback\"><pre>GridSearchCV(estimator=KNeighborsClassifier(), n_jobs=-1,\n",
       "             param_grid={&#x27;algorithm&#x27;: [&#x27;ball_tree&#x27;, &#x27;kd_tree&#x27;, &#x27;brute&#x27;, &#x27;auto&#x27;],\n",
       "                         &#x27;metric&#x27;: [&#x27;minkowski&#x27;], &#x27;n_neighbors&#x27;: [5, 7]},\n",
       "             scoring=&#x27;f1_weighted&#x27;, verbose=3)</pre><b>In a Jupyter environment, please rerun this cell to show the HTML representation or trust the notebook. <br />On GitHub, the HTML representation is unable to render, please try loading this page with nbviewer.org.</b></div><div class=\"sk-container\" hidden><div class=\"sk-item sk-dashed-wrapped\"><div class=\"sk-label-container\"><div class=\"sk-label sk-toggleable\"><input class=\"sk-toggleable__control sk-hidden--visually\" id=\"sk-estimator-id-13\" type=\"checkbox\" ><label for=\"sk-estimator-id-13\" class=\"sk-toggleable__label sk-toggleable__label-arrow\">GridSearchCV</label><div class=\"sk-toggleable__content\"><pre>GridSearchCV(estimator=KNeighborsClassifier(), n_jobs=-1,\n",
       "             param_grid={&#x27;algorithm&#x27;: [&#x27;ball_tree&#x27;, &#x27;kd_tree&#x27;, &#x27;brute&#x27;, &#x27;auto&#x27;],\n",
       "                         &#x27;metric&#x27;: [&#x27;minkowski&#x27;], &#x27;n_neighbors&#x27;: [5, 7]},\n",
       "             scoring=&#x27;f1_weighted&#x27;, verbose=3)</pre></div></div></div><div class=\"sk-parallel\"><div class=\"sk-parallel-item\"><div class=\"sk-item\"><div class=\"sk-label-container\"><div class=\"sk-label sk-toggleable\"><input class=\"sk-toggleable__control sk-hidden--visually\" id=\"sk-estimator-id-14\" type=\"checkbox\" ><label for=\"sk-estimator-id-14\" class=\"sk-toggleable__label sk-toggleable__label-arrow\">estimator: KNeighborsClassifier</label><div class=\"sk-toggleable__content\"><pre>KNeighborsClassifier()</pre></div></div></div><div class=\"sk-serial\"><div class=\"sk-item\"><div class=\"sk-estimator sk-toggleable\"><input class=\"sk-toggleable__control sk-hidden--visually\" id=\"sk-estimator-id-15\" type=\"checkbox\" ><label for=\"sk-estimator-id-15\" class=\"sk-toggleable__label sk-toggleable__label-arrow\">KNeighborsClassifier</label><div class=\"sk-toggleable__content\"><pre>KNeighborsClassifier()</pre></div></div></div></div></div></div></div></div></div></div>"
      ],
      "text/plain": [
       "GridSearchCV(estimator=KNeighborsClassifier(), n_jobs=-1,\n",
       "             param_grid={'algorithm': ['ball_tree', 'kd_tree', 'brute', 'auto'],\n",
       "                         'metric': ['minkowski'], 'n_neighbors': [5, 7]},\n",
       "             scoring='f1_weighted', verbose=3)"
      ]
     },
     "execution_count": 35,
     "metadata": {},
     "output_type": "execute_result"
    }
   ],
   "source": [
    "from sklearn.neighbors import KNeighborsClassifier\n",
    "from sklearn.model_selection import GridSearchCV\n",
    "\n",
    "param_grid = {'metric':['minkowski'],\n",
    "             'n_neighbors':[5,7],'algorithm':['ball_tree','kd_tree','brute','auto']} \n",
    "\n",
    "\n",
    "\n",
    "grid = GridSearchCV(KNeighborsClassifier(), param_grid, refit = True, verbose = 3,n_jobs=-1,scoring='f1_weighted') \n",
    "   \n",
    "# fitting the model for grid search \n",
    "grid.fit(X_train, y_train) "
   ]
  },
  {
   "cell_type": "code",
   "execution_count": 36,
   "id": "6b0d113c",
   "metadata": {},
   "outputs": [
    {
     "data": {
      "text/html": [
       "<div>\n",
       "<style scoped>\n",
       "    .dataframe tbody tr th:only-of-type {\n",
       "        vertical-align: middle;\n",
       "    }\n",
       "\n",
       "    .dataframe tbody tr th {\n",
       "        vertical-align: top;\n",
       "    }\n",
       "\n",
       "    .dataframe thead th {\n",
       "        text-align: right;\n",
       "    }\n",
       "</style>\n",
       "<table border=\"1\" class=\"dataframe\">\n",
       "  <thead>\n",
       "    <tr style=\"text-align: right;\">\n",
       "      <th></th>\n",
       "      <th>mean_fit_time</th>\n",
       "      <th>std_fit_time</th>\n",
       "      <th>mean_score_time</th>\n",
       "      <th>std_score_time</th>\n",
       "      <th>param_algorithm</th>\n",
       "      <th>param_metric</th>\n",
       "      <th>param_n_neighbors</th>\n",
       "      <th>params</th>\n",
       "      <th>split0_test_score</th>\n",
       "      <th>split1_test_score</th>\n",
       "      <th>split2_test_score</th>\n",
       "      <th>split3_test_score</th>\n",
       "      <th>split4_test_score</th>\n",
       "      <th>mean_test_score</th>\n",
       "      <th>std_test_score</th>\n",
       "      <th>rank_test_score</th>\n",
       "    </tr>\n",
       "  </thead>\n",
       "  <tbody>\n",
       "    <tr>\n",
       "      <th>0</th>\n",
       "      <td>0.002593</td>\n",
       "      <td>0.000489</td>\n",
       "      <td>0.013364</td>\n",
       "      <td>0.001850</td>\n",
       "      <td>ball_tree</td>\n",
       "      <td>minkowski</td>\n",
       "      <td>5</td>\n",
       "      <td>{'algorithm': 'ball_tree', 'metric': 'minkowsk...</td>\n",
       "      <td>0.963284</td>\n",
       "      <td>0.962636</td>\n",
       "      <td>0.944023</td>\n",
       "      <td>0.962573</td>\n",
       "      <td>0.962573</td>\n",
       "      <td>0.959018</td>\n",
       "      <td>0.007502</td>\n",
       "      <td>1</td>\n",
       "    </tr>\n",
       "    <tr>\n",
       "      <th>1</th>\n",
       "      <td>0.002194</td>\n",
       "      <td>0.000399</td>\n",
       "      <td>0.014362</td>\n",
       "      <td>0.002570</td>\n",
       "      <td>ball_tree</td>\n",
       "      <td>minkowski</td>\n",
       "      <td>7</td>\n",
       "      <td>{'algorithm': 'ball_tree', 'metric': 'minkowsk...</td>\n",
       "      <td>0.908877</td>\n",
       "      <td>0.944161</td>\n",
       "      <td>0.925524</td>\n",
       "      <td>0.981217</td>\n",
       "      <td>0.962573</td>\n",
       "      <td>0.944470</td>\n",
       "      <td>0.025706</td>\n",
       "      <td>5</td>\n",
       "    </tr>\n",
       "    <tr>\n",
       "      <th>2</th>\n",
       "      <td>0.004188</td>\n",
       "      <td>0.001163</td>\n",
       "      <td>0.012966</td>\n",
       "      <td>0.001669</td>\n",
       "      <td>kd_tree</td>\n",
       "      <td>minkowski</td>\n",
       "      <td>5</td>\n",
       "      <td>{'algorithm': 'kd_tree', 'metric': 'minkowski'...</td>\n",
       "      <td>0.963284</td>\n",
       "      <td>0.962636</td>\n",
       "      <td>0.944023</td>\n",
       "      <td>0.962573</td>\n",
       "      <td>0.962573</td>\n",
       "      <td>0.959018</td>\n",
       "      <td>0.007502</td>\n",
       "      <td>1</td>\n",
       "    </tr>\n",
       "    <tr>\n",
       "      <th>3</th>\n",
       "      <td>0.004189</td>\n",
       "      <td>0.002631</td>\n",
       "      <td>0.014162</td>\n",
       "      <td>0.002475</td>\n",
       "      <td>kd_tree</td>\n",
       "      <td>minkowski</td>\n",
       "      <td>7</td>\n",
       "      <td>{'algorithm': 'kd_tree', 'metric': 'minkowski'...</td>\n",
       "      <td>0.908877</td>\n",
       "      <td>0.944161</td>\n",
       "      <td>0.925524</td>\n",
       "      <td>0.981217</td>\n",
       "      <td>0.962573</td>\n",
       "      <td>0.944470</td>\n",
       "      <td>0.025706</td>\n",
       "      <td>5</td>\n",
       "    </tr>\n",
       "    <tr>\n",
       "      <th>4</th>\n",
       "      <td>0.001795</td>\n",
       "      <td>0.000746</td>\n",
       "      <td>0.225596</td>\n",
       "      <td>0.004942</td>\n",
       "      <td>brute</td>\n",
       "      <td>minkowski</td>\n",
       "      <td>5</td>\n",
       "      <td>{'algorithm': 'brute', 'metric': 'minkowski', ...</td>\n",
       "      <td>0.963284</td>\n",
       "      <td>0.962636</td>\n",
       "      <td>0.944023</td>\n",
       "      <td>0.962573</td>\n",
       "      <td>0.962573</td>\n",
       "      <td>0.959018</td>\n",
       "      <td>0.007502</td>\n",
       "      <td>1</td>\n",
       "    </tr>\n",
       "    <tr>\n",
       "      <th>5</th>\n",
       "      <td>0.001795</td>\n",
       "      <td>0.000399</td>\n",
       "      <td>0.161967</td>\n",
       "      <td>0.076064</td>\n",
       "      <td>brute</td>\n",
       "      <td>minkowski</td>\n",
       "      <td>7</td>\n",
       "      <td>{'algorithm': 'brute', 'metric': 'minkowski', ...</td>\n",
       "      <td>0.908877</td>\n",
       "      <td>0.944161</td>\n",
       "      <td>0.925524</td>\n",
       "      <td>0.981217</td>\n",
       "      <td>0.962573</td>\n",
       "      <td>0.944470</td>\n",
       "      <td>0.025706</td>\n",
       "      <td>5</td>\n",
       "    </tr>\n",
       "    <tr>\n",
       "      <th>6</th>\n",
       "      <td>0.001796</td>\n",
       "      <td>0.000399</td>\n",
       "      <td>0.070020</td>\n",
       "      <td>0.005723</td>\n",
       "      <td>auto</td>\n",
       "      <td>minkowski</td>\n",
       "      <td>5</td>\n",
       "      <td>{'algorithm': 'auto', 'metric': 'minkowski', '...</td>\n",
       "      <td>0.963284</td>\n",
       "      <td>0.962636</td>\n",
       "      <td>0.944023</td>\n",
       "      <td>0.962573</td>\n",
       "      <td>0.962573</td>\n",
       "      <td>0.959018</td>\n",
       "      <td>0.007502</td>\n",
       "      <td>1</td>\n",
       "    </tr>\n",
       "    <tr>\n",
       "      <th>7</th>\n",
       "      <td>0.001197</td>\n",
       "      <td>0.000398</td>\n",
       "      <td>0.062650</td>\n",
       "      <td>0.004342</td>\n",
       "      <td>auto</td>\n",
       "      <td>minkowski</td>\n",
       "      <td>7</td>\n",
       "      <td>{'algorithm': 'auto', 'metric': 'minkowski', '...</td>\n",
       "      <td>0.908877</td>\n",
       "      <td>0.944161</td>\n",
       "      <td>0.925524</td>\n",
       "      <td>0.981217</td>\n",
       "      <td>0.962573</td>\n",
       "      <td>0.944470</td>\n",
       "      <td>0.025706</td>\n",
       "      <td>5</td>\n",
       "    </tr>\n",
       "  </tbody>\n",
       "</table>\n",
       "</div>"
      ],
      "text/plain": [
       "   mean_fit_time  std_fit_time  mean_score_time  std_score_time  \\\n",
       "0       0.002593      0.000489         0.013364        0.001850   \n",
       "1       0.002194      0.000399         0.014362        0.002570   \n",
       "2       0.004188      0.001163         0.012966        0.001669   \n",
       "3       0.004189      0.002631         0.014162        0.002475   \n",
       "4       0.001795      0.000746         0.225596        0.004942   \n",
       "5       0.001795      0.000399         0.161967        0.076064   \n",
       "6       0.001796      0.000399         0.070020        0.005723   \n",
       "7       0.001197      0.000398         0.062650        0.004342   \n",
       "\n",
       "  param_algorithm param_metric param_n_neighbors  \\\n",
       "0       ball_tree    minkowski                 5   \n",
       "1       ball_tree    minkowski                 7   \n",
       "2         kd_tree    minkowski                 5   \n",
       "3         kd_tree    minkowski                 7   \n",
       "4           brute    minkowski                 5   \n",
       "5           brute    minkowski                 7   \n",
       "6            auto    minkowski                 5   \n",
       "7            auto    minkowski                 7   \n",
       "\n",
       "                                              params  split0_test_score  \\\n",
       "0  {'algorithm': 'ball_tree', 'metric': 'minkowsk...           0.963284   \n",
       "1  {'algorithm': 'ball_tree', 'metric': 'minkowsk...           0.908877   \n",
       "2  {'algorithm': 'kd_tree', 'metric': 'minkowski'...           0.963284   \n",
       "3  {'algorithm': 'kd_tree', 'metric': 'minkowski'...           0.908877   \n",
       "4  {'algorithm': 'brute', 'metric': 'minkowski', ...           0.963284   \n",
       "5  {'algorithm': 'brute', 'metric': 'minkowski', ...           0.908877   \n",
       "6  {'algorithm': 'auto', 'metric': 'minkowski', '...           0.963284   \n",
       "7  {'algorithm': 'auto', 'metric': 'minkowski', '...           0.908877   \n",
       "\n",
       "   split1_test_score  split2_test_score  split3_test_score  split4_test_score  \\\n",
       "0           0.962636           0.944023           0.962573           0.962573   \n",
       "1           0.944161           0.925524           0.981217           0.962573   \n",
       "2           0.962636           0.944023           0.962573           0.962573   \n",
       "3           0.944161           0.925524           0.981217           0.962573   \n",
       "4           0.962636           0.944023           0.962573           0.962573   \n",
       "5           0.944161           0.925524           0.981217           0.962573   \n",
       "6           0.962636           0.944023           0.962573           0.962573   \n",
       "7           0.944161           0.925524           0.981217           0.962573   \n",
       "\n",
       "   mean_test_score  std_test_score  rank_test_score  \n",
       "0         0.959018        0.007502                1  \n",
       "1         0.944470        0.025706                5  \n",
       "2         0.959018        0.007502                1  \n",
       "3         0.944470        0.025706                5  \n",
       "4         0.959018        0.007502                1  \n",
       "5         0.944470        0.025706                5  \n",
       "6         0.959018        0.007502                1  \n",
       "7         0.944470        0.025706                5  "
      ]
     },
     "execution_count": 36,
     "metadata": {},
     "output_type": "execute_result"
    }
   ],
   "source": [
    "re=grid.cv_results_\n",
    "table=pd.DataFrame.from_dict(re)\n",
    "table"
   ]
  },
  {
   "cell_type": "code",
   "execution_count": 37,
   "id": "4e2e6e6a",
   "metadata": {},
   "outputs": [
    {
     "name": "stdout",
     "output_type": "stream",
     "text": [
      "The confusion Matrix:\n",
      " [[51  0]\n",
      " [ 8 74]]\n",
      "The report:\n",
      "               precision    recall  f1-score   support\n",
      "\n",
      "           0       0.86      1.00      0.93        51\n",
      "           1       1.00      0.90      0.95        82\n",
      "\n",
      "    accuracy                           0.94       133\n",
      "   macro avg       0.93      0.95      0.94       133\n",
      "weighted avg       0.95      0.94      0.94       133\n",
      "\n"
     ]
    }
   ],
   "source": [
    "grid_predictions = grid.predict(X_test) \n",
    "\n",
    "from sklearn.metrics import confusion_matrix\n",
    "cm = confusion_matrix(y_test, grid_predictions)\n",
    "print(\"The confusion Matrix:\\n\",cm)\n",
    "# print classification report \n",
    "from sklearn.metrics import classification_report\n",
    "clf_report = classification_report(y_test, grid_predictions)\n",
    "print(\"The report:\\n\",clf_report)"
   ]
  },
  {
   "cell_type": "code",
   "execution_count": 38,
   "id": "36f695e5",
   "metadata": {},
   "outputs": [
    {
     "name": "stdout",
     "output_type": "stream",
     "text": [
      "The f1_macro value for best parameter {'algorithm': 'ball_tree', 'metric': 'minkowski', 'n_neighbors': 5}: 0.9404945931261721\n"
     ]
    }
   ],
   "source": [
    "from sklearn.metrics import f1_score\n",
    "f1_macro=f1_score(y_test,grid_predictions,average='weighted')\n",
    "print(\"The f1_macro value for best parameter {}:\".format(grid.best_params_),f1_macro)"
   ]
  },
  {
   "cell_type": "code",
   "execution_count": 41,
   "id": "9bfda5c4",
   "metadata": {},
   "outputs": [
    {
     "name": "stdout",
     "output_type": "stream",
     "text": [
      "The f1_macro value for best parameter {'algorithm': 'ball_tree', 'metric': 'minkowski', 'n_neighbors': 5}: 0.9404945931261721\n"
     ]
    }
   ],
   "source": [
    "from sklearn.metrics import f1_score\n",
    "f1_macro=f1_score(y_test,grid_predictions,average='weighted')\n",
    "print(\"The f1_macro value for best parameter {}:\".format(grid.best_params_),f1_macro)"
   ]
  },
  {
   "cell_type": "code",
   "execution_count": 42,
   "id": "f75674b7",
   "metadata": {},
   "outputs": [
    {
     "data": {
      "text/plain": [
       "0.9992826398852224"
      ]
     },
     "execution_count": 42,
     "metadata": {},
     "output_type": "execute_result"
    }
   ],
   "source": [
    "from sklearn.metrics import roc_auc_score\n",
    "roc_auc_score(y_test,grid.predict_proba(X_test)[:,1])"
   ]
  },
  {
   "cell_type": "code",
   "execution_count": null,
   "id": "59b1e6ca",
   "metadata": {},
   "outputs": [],
   "source": []
  },
  {
   "cell_type": "code",
   "execution_count": null,
   "id": "0f33f06f",
   "metadata": {},
   "outputs": [],
   "source": []
  }
 ],
 "metadata": {
  "kernelspec": {
   "display_name": "Python 3 (ipykernel)",
   "language": "python",
   "name": "python3"
  },
  "language_info": {
   "codemirror_mode": {
    "name": "ipython",
    "version": 3
   },
   "file_extension": ".py",
   "mimetype": "text/x-python",
   "name": "python",
   "nbconvert_exporter": "python",
   "pygments_lexer": "ipython3",
   "version": "3.11.5"
  }
 },
 "nbformat": 4,
 "nbformat_minor": 5
}
